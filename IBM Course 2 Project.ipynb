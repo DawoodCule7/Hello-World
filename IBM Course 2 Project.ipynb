{
    "cells": [
        {
            "cell_type": "markdown",
            "metadata": {},
            "source": "<center>\n    <img src=\"https://s3-api.us-geo.objectstorage.softlayer.net/cf-courses-data/CognitiveClass/Logos/organization_logo/organization_logo.png\" width=\"300\" alt=\"cognitiveclass.ai logo\"  />\n</center>\n"
        },
        {
            "cell_type": "markdown",
            "metadata": {},
            "source": "<center> <h1> My Jupyter Notebook on IBM Watson Studio </h1> </center>"
        },
        {
            "cell_type": "markdown",
            "metadata": {},
            "source": "**Author: Mohammed Dawood Khan**\n\nOccupation: I am currently a student and I desire to become a highly skilled Data Scientist.\n"
        },
        {
            "cell_type": "markdown",
            "metadata": {},
            "source": "*I am interested in Data Science because it gives meaning to raw data and converts it into meaningful insights that can be used to grow the business and recognize market trends.*"
        },
        {
            "cell_type": "markdown",
            "metadata": {},
            "source": "### The code when executed finds the area of a triangle"
        },
        {
            "cell_type": "code",
            "execution_count": 1,
            "metadata": {},
            "outputs": [
                {
                    "name": "stdout",
                    "output_type": "stream",
                    "text": "Enter first side: 5\nEnter second side: 6\nEnter third side: 7\nThe area of the triangle is 14.70\n"
                }
            ],
            "source": "# Three sides of the triangle is a, b and c:  \na = float(input('Enter first side: '))  \nb = float(input('Enter second side: '))  \nc = float(input('Enter third side: '))  \n  \n# calculate the semi-perimeter  \ns = (a + b + c) / 2  \n  \n# calculate the area  \narea = (s*(s-a)*(s-b)*(s-c)) ** 0.5  \nprint('The area of the triangle is %0.2f' %area)   "
        },
        {
            "cell_type": "markdown",
            "metadata": {},
            "source": "`lower ()` function coverts the string into lowercase.\n\n---\n\n[***Follow me on Instagram:***](https://www.instagram.com/d._.wood/)\n\n[IBM](https://www.ibm.com)\n\n---\n\n1. This \n2. is a \n3. Numbered\n4. List\n\n\n| Syntax | Description |\n| ----------- | ----------- |\n| Header | Title |\n| Paragraph | Text |\n\n![GitHub](https://images8.alphacoders.com/430/thumb-1920-430944.jpg)"
        }
    ],
    "metadata": {
        "kernelspec": {
            "display_name": "Python 3.9",
            "language": "python",
            "name": "python3"
        },
        "language_info": {
            "codemirror_mode": {
                "name": "ipython",
                "version": 3
            },
            "file_extension": ".py",
            "mimetype": "text/x-python",
            "name": "python",
            "nbconvert_exporter": "python",
            "pygments_lexer": "ipython3",
            "version": "3.9.12"
        }
    },
    "nbformat": 4,
    "nbformat_minor": 4
}